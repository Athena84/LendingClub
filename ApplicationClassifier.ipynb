{
 "cells": [
  {
   "cell_type": "markdown",
   "id": "d7702af9",
   "metadata": {},
   "source": [
    "Packages"
   ]
  },
  {
   "cell_type": "code",
   "execution_count": 15,
   "id": "86897cc9",
   "metadata": {},
   "outputs": [],
   "source": [
    "import pandas as pd\n",
    "import os\n",
    "from sklearn import tree\n"
   ]
  },
  {
   "cell_type": "code",
   "execution_count": 19,
   "id": "63977794",
   "metadata": {},
   "outputs": [],
   "source": [
    "os.chdir(\"/Users/nielskreuk/Dropbox/DataScience/Exercises/NYCDSA/CapstoneProject/LendingClub\")"
   ]
  },
  {
   "cell_type": "code",
   "execution_count": 7,
   "id": "7384d31b",
   "metadata": {},
   "outputs": [],
   "source": [
    "rand_seed = 0"
   ]
  },
  {
   "cell_type": "markdown",
   "id": "4e75cda0",
   "metadata": {},
   "source": [
    "Reading the data"
   ]
  },
  {
   "cell_type": "code",
   "execution_count": 21,
   "id": "90808023",
   "metadata": {},
   "outputs": [
    {
     "name": "stderr",
     "output_type": "stream",
     "text": [
      "/Users/nielskreuk/opt/anaconda3/lib/python3.8/site-packages/IPython/core/interactiveshell.py:3165: DtypeWarning: Columns (2) have mixed types.Specify dtype option on import or set low_memory=False.\n",
      "  has_raised = await self.run_ast_nodes(code_ast.body, cell_name,\n"
     ]
    }
   ],
   "source": [
    "applications = pd.read_csv(\"./data/cleaned_applications.csv\")\n",
    "\n",
    "#target.set_index(\"Id\", inplace = True)"
   ]
  },
  {
   "cell_type": "code",
   "execution_count": 26,
   "id": "7bff4ca4",
   "metadata": {},
   "outputs": [
    {
     "name": "stdout",
     "output_type": "stream",
     "text": [
      "Amount.Requested float64\n",
      "Application.Date float64\n",
      "Debt.To.Income.Ratio object\n",
      "Employment.Length int64\n",
      "Risk.Score float64\n",
      "State object\n",
      "Status int64\n"
     ]
    }
   ],
   "source": [
    "for col in applications.columns:\n",
    "    print(col, applications[col].dtype)"
   ]
  },
  {
   "cell_type": "code",
   "execution_count": null,
   "id": "9b3bc621",
   "metadata": {},
   "outputs": [],
   "source": [
    "tree_model = tree.DecisionTreeClassifier()"
   ]
  }
 ],
 "metadata": {
  "kernelspec": {
   "display_name": "Python 3",
   "language": "python",
   "name": "python3"
  },
  "language_info": {
   "codemirror_mode": {
    "name": "ipython",
    "version": 3
   },
   "file_extension": ".py",
   "mimetype": "text/x-python",
   "name": "python",
   "nbconvert_exporter": "python",
   "pygments_lexer": "ipython3",
   "version": "3.8.8"
  }
 },
 "nbformat": 4,
 "nbformat_minor": 5
}
