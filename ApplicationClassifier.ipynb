{
 "cells": [
  {
   "cell_type": "markdown",
   "id": "d7702af9",
   "metadata": {},
   "source": [
    "Packages"
   ]
  },
  {
   "cell_type": "code",
   "execution_count": 70,
   "id": "86897cc9",
   "metadata": {},
   "outputs": [],
   "source": [
    "import pandas as pd\n",
    "import numpy as np\n",
    "import os\n",
    "from sklearn.preprocessing import LabelEncoder\n",
    "from sklearn.model_selection import train_test_split\n",
    "from sklearn import tree\n",
    "from sklearn.model_selection import GridSearchCV"
   ]
  },
  {
   "cell_type": "code",
   "execution_count": 19,
   "id": "65b48786",
   "metadata": {},
   "outputs": [],
   "source": [
    "os.chdir(\"/Users/nielskreuk/Dropbox/DataScience/Exercises/NYCDSA/CapstoneProject/LendingClub\")"
   ]
  },
  {
   "cell_type": "code",
   "execution_count": 42,
   "id": "7384d31b",
   "metadata": {},
   "outputs": [],
   "source": [
    "rand_seed = 42"
   ]
  },
  {
   "cell_type": "markdown",
   "id": "4e75cda0",
   "metadata": {},
   "source": [
    "Reading the data"
   ]
  },
  {
   "cell_type": "code",
   "execution_count": 118,
   "id": "90808023",
   "metadata": {},
   "outputs": [],
   "source": [
    "applications = pd.read_csv(\"./data/cleaned_applications.csv\")"
   ]
  },
  {
   "cell_type": "code",
   "execution_count": 119,
   "id": "308f8fbf",
   "metadata": {},
   "outputs": [],
   "source": [
    "applications.drop([\"State\", \"Application.Date\", \"Amount.Requested\"], inplace = True, axis = 1)"
   ]
  },
  {
   "cell_type": "markdown",
   "id": "1dafa79a",
   "metadata": {},
   "source": [
    "Label encoding"
   ]
  },
  {
   "cell_type": "code",
   "execution_count": 120,
   "id": "1eda0082",
   "metadata": {},
   "outputs": [],
   "source": [
    "enc = LabelEncoder()\n",
    "result = {}\n",
    "for col in applications.columns:\n",
    "    if (applications[col].dtype == \"int\" or applications[col].dtype == \"float\"):\n",
    "        result[col] = applications[col]\n",
    "    else:\n",
    "        result[col] = pd.Series(enc.fit_transform(applications[col]))\n",
    "features = pd.DataFrame(result)"
   ]
  },
  {
   "cell_type": "markdown",
   "id": "1c12b3d6",
   "metadata": {},
   "source": [
    "Splitting a train+test subset and features vs. target"
   ]
  },
  {
   "cell_type": "code",
   "execution_count": 121,
   "id": "736361d0",
   "metadata": {},
   "outputs": [],
   "source": [
    "target = features.Status\n",
    "features.drop(\"Status\", inplace = True, axis = 1)\n",
    "train_features, test_features, train_target, test_target = train_test_split(features, target, test_size = 0.1)"
   ]
  },
  {
   "cell_type": "markdown",
   "id": "a376a742",
   "metadata": {},
   "source": [
    "Tree model"
   ]
  },
  {
   "cell_type": "code",
   "execution_count": 109,
   "id": "9b3bc621",
   "metadata": {},
   "outputs": [],
   "source": [
    "tree_model = tree.DecisionTreeClassifier(min_samples_leaf = 30000)"
   ]
  },
  {
   "cell_type": "code",
   "execution_count": 87,
   "id": "45f8876c",
   "metadata": {},
   "outputs": [
    {
     "data": {
      "text/plain": [
       "DecisionTreeClassifier(min_samples_leaf=30000)"
      ]
     },
     "execution_count": 87,
     "metadata": {},
     "output_type": "execute_result"
    }
   ],
   "source": [
    "np.random.seed(rand_seed)\n",
    "tree_model.fit(train_features, train_target)"
   ]
  },
  {
   "cell_type": "code",
   "execution_count": 88,
   "id": "85bdb046",
   "metadata": {
    "scrolled": true
   },
   "outputs": [
    {
     "data": {
      "text/plain": [
       "0.9943810210643259"
      ]
     },
     "execution_count": 88,
     "metadata": {},
     "output_type": "execute_result"
    }
   ],
   "source": [
    "tree_model.score(train_features, train_target)"
   ]
  },
  {
   "cell_type": "code",
   "execution_count": 89,
   "id": "ba30e65f",
   "metadata": {},
   "outputs": [
    {
     "data": {
      "text/plain": [
       "0.9944215538533708"
      ]
     },
     "execution_count": 89,
     "metadata": {},
     "output_type": "execute_result"
    }
   ],
   "source": [
    "tree_model.score(test_features, test_target)"
   ]
  },
  {
   "cell_type": "code",
   "execution_count": 51,
   "id": "2ddb99da",
   "metadata": {
    "scrolled": true
   },
   "outputs": [
    {
     "name": "stdout",
     "output_type": "stream",
     "text": [
      "[0.01471673 0.00246467 0.95926612 0.02150362 0.00204885]\n"
     ]
    }
   ],
   "source": [
    "print(tree_model.feature_importances_)"
   ]
  },
  {
   "cell_type": "markdown",
   "id": "94bb1fb6",
   "metadata": {},
   "source": [
    "Grid search for best tree depth"
   ]
  },
  {
   "cell_type": "code",
   "execution_count": 122,
   "id": "59be03c6",
   "metadata": {},
   "outputs": [],
   "source": [
    "grid_para_tree = [{\n",
    "    #\"min_samples_leaf\": range(1, 10),\n",
    "    \"max_depth\": range(2,9)\n",
    "}]\n",
    "grid_search_tree = GridSearchCV(tree_model, grid_para_tree, cv = 5, scoring = 'accuracy', n_jobs = -1)"
   ]
  },
  {
   "cell_type": "code",
   "execution_count": 123,
   "id": "4f9420ff",
   "metadata": {},
   "outputs": [
    {
     "name": "stdout",
     "output_type": "stream",
     "text": [
      "CPU times: user 15.3 s, sys: 4.79 s, total: 20.1 s\n",
      "Wall time: 2min 32s\n"
     ]
    },
    {
     "data": {
      "text/plain": [
       "GridSearchCV(cv=5, estimator=DecisionTreeClassifier(min_samples_leaf=30000),\n",
       "             n_jobs=-1, param_grid=[{'max_depth': range(3, 9)}],\n",
       "             scoring='accuracy')"
      ]
     },
     "execution_count": 123,
     "metadata": {},
     "output_type": "execute_result"
    }
   ],
   "source": [
    "np.random.seed(rand_seed)\n",
    "%time grid_search_tree.fit(train_features, train_target)"
   ]
  },
  {
   "cell_type": "code",
   "execution_count": 124,
   "id": "d74b95f0",
   "metadata": {},
   "outputs": [
    {
     "data": {
      "text/plain": [
       "{'max_depth': 4}"
      ]
     },
     "execution_count": 124,
     "metadata": {},
     "output_type": "execute_result"
    }
   ],
   "source": [
    "grid_search_tree.best_params_"
   ]
  },
  {
   "cell_type": "code",
   "execution_count": 125,
   "id": "297b1b33",
   "metadata": {},
   "outputs": [
    {
     "data": {
      "text/plain": [
       "0.9936861857071024"
      ]
     },
     "execution_count": 125,
     "metadata": {},
     "output_type": "execute_result"
    }
   ],
   "source": [
    "grid_search_tree.best_score_"
   ]
  },
  {
   "cell_type": "code",
   "execution_count": 126,
   "id": "59ae7f52",
   "metadata": {},
   "outputs": [
    {
     "data": {
      "text/plain": [
       "0.9936899762839136"
      ]
     },
     "execution_count": 126,
     "metadata": {},
     "output_type": "execute_result"
    }
   ],
   "source": [
    "grid_search_tree.score(test_features, test_target)"
   ]
  },
  {
   "cell_type": "code",
   "execution_count": 127,
   "id": "f79b50d5",
   "metadata": {},
   "outputs": [],
   "source": [
    "model = grid_search_tree.best_estimator_"
   ]
  },
  {
   "cell_type": "markdown",
   "id": "179f93aa",
   "metadata": {},
   "source": [
    "Export tree as visual"
   ]
  },
  {
   "cell_type": "code",
   "execution_count": 131,
   "id": "bcfd18f6",
   "metadata": {},
   "outputs": [],
   "source": [
    "tree.export_graphviz(model, out_file = 'tree.dot', feature_names = features.columns, class_names = [\"Accepted\", \"Rejected\"], proportion = True, rotate = True, label = \"root\", rounded = True, leaves_parallel = True) \n",
    "!dot -Tpng tree.dot -o tree.png"
   ]
  },
  {
   "cell_type": "code",
   "execution_count": null,
   "id": "540dfa0e",
   "metadata": {},
   "outputs": [],
   "source": []
  }
 ],
 "metadata": {
  "kernelspec": {
   "display_name": "Python 3",
   "language": "python",
   "name": "python3"
  },
  "language_info": {
   "codemirror_mode": {
    "name": "ipython",
    "version": 3
   },
   "file_extension": ".py",
   "mimetype": "text/x-python",
   "name": "python",
   "nbconvert_exporter": "python",
   "pygments_lexer": "ipython3",
   "version": "3.8.8"
  }
 },
 "nbformat": 4,
 "nbformat_minor": 5
}
